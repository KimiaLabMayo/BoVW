{
 "cells": [
  {
   "cell_type": "code",
   "execution_count": 2,
   "metadata": {},
   "outputs": [],
   "source": [
    "import os \n",
    "import csv\n",
    "import tqdm as tqdm \n",
    "import shutil\n"
   ]
  },
  {
   "cell_type": "code",
   "execution_count": 3,
   "metadata": {},
   "outputs": [],
   "source": [
    "\"\"\"The path to the csv file containig your data. It should have the following columns:\n",
    "[file_name,Stain,label,Case #]\n",
    "file_name: the name of the image file\n",
    "Stain: the type of stain used\n",
    "label: the diagnosis of the case\n",
    "Case #: the case number \"\"\"\n",
    "# TODO: change the path to the csv file\n",
    "csv_path = 'path/to/file.csv' "
   ]
  },
  {
   "cell_type": "code",
   "execution_count": 5,
   "metadata": {},
   "outputs": [],
   "source": [
    "\"\"\" Return a list of all the slide name (ex. '234523.svs') \"\"\"\n",
    "with open(csv_path, newline='') as f:\n",
    "    reader = csv.DictReader(f)\n",
    "    slide_names = [row['\\ufefffile_name'] for row in reader]\n",
    "    # slide_names = [row['file_name'] for row in reader]"
   ]
  },
  {
   "cell_type": "code",
   "execution_count": null,
   "metadata": {},
   "outputs": [],
   "source": [
    "\"\"\" Get all the slides in a given directory \"\"\"\n",
    "# TODO: change the path to the directory containing the slides\n",
    "saved_data = []\n",
    "crc_data_path = 'path/to/images/directory/'\n",
    "for file in tqdm.tqdm(os.listdir(crc_data_path), total=len(os.listdir(crc_data_path)), desc=\"Getting Slides: \"):\n",
    "    if file.endswith('.svs'):\n",
    "        saved_data.append(file)\n",
    "        "
   ]
  },
  {
   "cell_type": "code",
   "execution_count": null,
   "metadata": {},
   "outputs": [],
   "source": [
    "\"\"\" prints all the slide names (to verify you have them in the right format) and \n",
    "the total number of slide that will be in the test set\"\"\"\n",
    "print(sorted(slide_names))\n",
    "print(f'Total number of test set slides: {len(slide_names)}')"
   ]
  },
  {
   "cell_type": "code",
   "execution_count": null,
   "metadata": {},
   "outputs": [],
   "source": [
    "\"\"\" prints all the slide names (to verify you have them in the right format), and \n",
    "the total number of slide in the entire directory (train set = total - test) \"\"\"\n",
    "print(sorted(saved_data))\n",
    "print(f'Total number of train set slides: {len(saved_data) - len(slide_names)} ')"
   ]
  },
  {
   "cell_type": "code",
   "execution_count": null,
   "metadata": {},
   "outputs": [],
   "source": [
    "\"\"\"Copy either the test or train set into a directory you want to save them to. \"\"\"\n",
    "# TODO: Change to 'in' for the test slides and 'not in' for the train slides!!!!\n",
    "# NOTE: The number of slides to copy should match the above values based on if you want a train/test set \n",
    "\n",
    "file_list = []\n",
    "total = 0\n",
    "save_data_path = 'path/to/train_data'\n",
    "os.makedirs(save_data_path, exist_ok=True)\n",
    "for file in tqdm.tqdm(os.listdir(crc_data_path), total=len(os.listdir(crc_data_path)), desc=\"Getting Slides: \"):\n",
    "    if file not in slide_names:\n",
    "        file_list.append(file)\n",
    "        \n",
    "        file_path = os.path.join(crc_data_path, file)\n",
    "        dest_file = os.path.join(save_data_path, file)\n",
    "        try:\n",
    "            shutil.copy(file_path, dest_file)\n",
    "        except Exception as e:\n",
    "            print(f\"Error copying '{file}': {e}\")\n",
    "            continue  # Skip to the next file\n",
    "\n",
    "    total += 1\n",
    "\n",
    "print(f\"File copying completed. The total number of slides to copy is {len(file_list)} out of {total} number of slides\")\n",
    "\n"
   ]
  }
 ],
 "metadata": {
  "kernelspec": {
   "display_name": "auto_encoder",
   "language": "python",
   "name": "python3"
  },
  "language_info": {
   "codemirror_mode": {
    "name": "ipython",
    "version": 3
   },
   "file_extension": ".py",
   "mimetype": "text/x-python",
   "name": "python",
   "nbconvert_exporter": "python",
   "pygments_lexer": "ipython3",
   "version": "3.11.4"
  },
  "orig_nbformat": 4
 },
 "nbformat": 4,
 "nbformat_minor": 2
}
